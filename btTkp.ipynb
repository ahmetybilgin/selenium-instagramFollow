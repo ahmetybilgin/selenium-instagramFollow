{
 "cells": [
  {
   "cell_type": "code",
   "execution_count": 1,
   "metadata": {},
   "outputs": [],
   "source": [
    "#insta_robot iletişim: ahmet_yblg@hotmail.com\n",
    "# çalışması için gerekenler selenium webdriver Chrome Patch yapılmış olması gerekiyor\n",
    "# xpath adresleri güncellendiği zaman program  'HATA Eleman bulunamadı' uyarısı vermektedir bilginize\n",
    "from selenium import webdriver # otomatik işlemler için paket yazılım\n",
    "import time\n",
    "import loginInfo #hesap giriş bilgileri için aynı klosörde login.py olmalı veya\n",
    "import datetime\n",
    "from selenium.common.exceptions import NoSuchElementException, StaleElementReferenceException, WebDriverException\n",
    "from selenium.webdriver.common.keys import Keys\n",
    "import warnings\n",
    "warnings.filterwarnings(\"ignore\", category=DeprecationWarning)"
   ]
  },
  {
   "cell_type": "code",
   "execution_count": 2,
   "metadata": {},
   "outputs": [],
   "source": [
    "tıkladım=False\n",
    "while(tıkladım==False):\n",
    "    try: \n",
    "        options = webdriver.ChromeOptions()\n",
    "        options.add_argument(\"--start-maximized\")\n",
    "        options.add_argument('window-size=960,600') #pencere boyutu w,h\n",
    "        options.add_argument(\"--disable-infobars\")\n",
    "        driver = webdriver.Chrome(chrome_options=options)\n",
    "        driver.get(\"https://www.instagram.com\") #chrome da instagram adresine git\n",
    "        time.sleep(1)\n",
    "        tıkladım=True #hadi\n",
    "    except NoSuchElementException:\n",
    "        print('HATA Eleman bulunamadı')\n",
    "        time.sleep(1)"
   ]
  },
  {
   "cell_type": "code",
   "execution_count": 3,
   "metadata": {},
   "outputs": [],
   "source": [
    "tıkladım=False \n",
    "while(tıkladım==False):\n",
    "    try: \n",
    "        girisYap = driver.find_element_by_xpath(\"//*[@id='react-root']/section/main/article/div[2]/div[2]/p/a\")\n",
    "        girisYap.click() #giriş tuşuna tıkla\n",
    "        time.sleep(2)\n",
    "        tıkladım=True #hadi\n",
    "    except NoSuchElementException:\n",
    "        print('HATA Eleman bulunamadı')\n",
    "        time.sleep(1)"
   ]
  },
  {
   "cell_type": "code",
   "execution_count": 5,
   "metadata": {},
   "outputs": [],
   "source": [
    "tıkladım=False\n",
    "kullaniciadi = \"\"\n",
    "parola = \"\"\n",
    "while(tıkladım==False):\n",
    "    try:  \n",
    "        username = driver.find_element_by_name(\"username\") #giriş bilgilerini gir\n",
    "        password = driver.find_element_by_name(\"password\")\n",
    "        username.send_keys(kullaniciadi)\n",
    "        time.sleep(1)\n",
    "        password.send_keys(parola)\n",
    "        time.sleep(1)\n",
    "        \n",
    "        while(tıkladım==False):\n",
    "            s=0 # burada instagram div no: değiştirdiği için döngüye girmek gerekti\n",
    "            loginButton = driver.find_element_by_xpath(\"//*[@id='react-root']/section/main/div/article/div/div[1]/div/form/div['+str(s)+']/button\")\n",
    "            loginButton.click()                         \n",
    "            tıkladım=True #hadi\n",
    "            time.sleep(1)\n",
    "    except NoSuchElementException:\n",
    "        print('HATA Eleman bulunamadı')\n",
    "        s+=1\n",
    "        time.sleep(1)"
   ]
  },
  {
   "cell_type": "code",
   "execution_count": 6,
   "metadata": {},
   "outputs": [],
   "source": [
    "tıkladım=False\n",
    "while(tıkladım==False):\n",
    "    try: # kullancı adının sayfasına git\n",
    "        time.sleep(1)\n",
    "        hesap=\"\" #   \n",
    "        driver.get(\"https://www.instagram.com/\"+hesap)\n",
    "        time.sleep(2)\n",
    "        tıkladım=True #hadi\n",
    "    except NoSuchElementException:\n",
    "        print('HATA Eleman bulunamadı')\n",
    "        time.sleep(1)"
   ]
  },
  {
   "cell_type": "code",
   "execution_count": 7,
   "metadata": {},
   "outputs": [
    {
     "name": "stdout",
     "output_type": "stream",
     "text": [
      "tıkladım\n"
     ]
    }
   ],
   "source": [
    "tıkladım=False\n",
    "while(tıkladım==False):\n",
    "    try: \n",
    "        time.sleep(1)\n",
    "        gndrButton = driver.find_element_by_xpath(\"//*[@id='react-root']/section/main/div/div[3]/article/div[1]/div/div[1]/div[1]/a\")                                              \n",
    "        gndrButton.click() # son gönderiye tıkla  \n",
    "        time.sleep(1)\n",
    "        print('tıkladım')\n",
    "        tıkladım=True #hadi\n",
    "    except NoSuchElementException:\n",
    "        print('HATA Eleman bulunamadı')\n",
    "        time.sleep(1)\n",
    "        driver.get(\"https://www.instagram.com/\"+hesap)\n",
    "    except WebDriverException:\n",
    "            print('HATA WebDriverException')\n",
    "            time.sleep(1)\n",
    "            continue"
   ]
  },
  {
   "cell_type": "code",
   "execution_count": 8,
   "metadata": {},
   "outputs": [
    {
     "name": "stdout",
     "output_type": "stream",
     "text": [
      "tıkladım\n"
     ]
    }
   ],
   "source": [
    "tıkladım=False\n",
    "while(tıkladım==False):\n",
    "    try:  \n",
    "        bgnlerButton = driver.find_element_by_xpath(\"/html/body/div[3]/div[2]/div/article/div[2]/section[2]/div/div[2]/button\")               \n",
    "        bgnlerButton.click()  #begenenleri goster          \n",
    "        time.sleep(1)\n",
    "        print('tıkladım')\n",
    "        tıkladım=True #hadi\n",
    "    except NoSuchElementException:\n",
    "        print('HATA Eleman bulunamadı')\n",
    "        time.sleep(1)"
   ]
  },
  {
   "cell_type": "code",
   "execution_count": 9,
   "metadata": {
    "scrolled": true
   },
   "outputs": [
    {
     "name": "stdout",
     "output_type": "stream",
     "text": [
      "334\n",
      "tıkladım\n"
     ]
    }
   ],
   "source": [
    "tıkladım=False\n",
    "while(tıkladım==False):\n",
    "    try:\n",
    "        bgnentxt=driver.find_element_by_css_selector(\"body > div._2dDPU.vCf6V > div.zZYga > div > article > div.eo2As > section.EDfFK.ygqzn > div > div.Nm9Fw > button > span\").text\n",
    "        bgnen = int(bgnentxt.replace(\".\", \"\")) # (.) yı sil    \n",
    "        print(bgnen) # begenen kişi sayısı \n",
    "        print('tıkladım')\n",
    "        tıkladım=True #hadi git\n",
    "    except NoSuchElementException:\n",
    "        print('HATA Eleman bulunamadı')\n",
    "        time.sleep(1)"
   ]
  },
  {
   "cell_type": "code",
   "execution_count": 10,
   "metadata": {},
   "outputs": [],
   "source": [
    "def takipbtn(): #tek tek takip et butona tıkla\n",
    "    div=j=i=cıkıs=0\n",
    "    tekrar=int(bgnen/12) \n",
    "    while(i<tekrar): #döngü koşulu begenen kişi (sayısı/12) kadar\n",
    "        i+=1\n",
    "        for div in range(0,19): #buton divlerinde sırası ile gezmek için\n",
    "            try:\n",
    "                txt=driver.find_element_by_xpath('/html/body/div[4]/div/div[2]/div/div/div['+str(div)+']/div[3]/button').text                                \n",
    "                if(str(txt) == 'Takip Et'):\n",
    "                    tkpButton= driver.find_element_by_xpath('/html/body/div[4]/div/div[2]/div/div/div['+str(div)+']/div[3]/button')\n",
    "                    tkpButton.click() # takip et tıkla\n",
    "                    j+=1 #takip sayacı\n",
    "                    print(str(i)+'-takip atılan div no:('+str(div)+') '+txt +' İşlemi / Zaman:'+str(datetime.datetime.now())+'/Click:'+str(j))\n",
    "                    time.sleep(1) \n",
    "                        \n",
    "            except NoSuchElementException:\n",
    "                #print('HATA NoSuchElementException - Adresde eleman bulunamadı')\n",
    "                #time.sleep(1)\n",
    "                continue\n",
    "            except WebDriverException:\n",
    "                print('HATA WebDriverException')\n",
    "                time.sleep(1)\n",
    "                continue\n",
    "            except StaleElementReferenceException:\n",
    "                time.sleep(1)\n",
    "                print('HATA StaleElementReferenceException')\n",
    "                continue   \n",
    "                time.sleep(1)\n",
    "    return j"
   ]
  },
  {
   "cell_type": "code",
   "execution_count": null,
   "metadata": {
    "scrolled": true
   },
   "outputs": [
    {
     "name": "stdout",
     "output_type": "stream",
     "text": [
      "1-takip atılan div no:(3) Takip Et İşlemi / Zaman:2019-05-07 13:38:48.782358/Click:1\n",
      "1-takip atılan div no:(5) Takip Et İşlemi / Zaman:2019-05-07 13:38:49.967173/Click:2\n",
      "1-takip atılan div no:(10) Takip Et İşlemi / Zaman:2019-05-07 13:38:51.319963/Click:3\n",
      "1-takip atılan div no:(11) Takip Et İşlemi / Zaman:2019-05-07 13:38:52.492780/Click:4\n",
      "1-takip atılan div no:(16) Takip Et İşlemi / Zaman:2019-05-07 13:38:53.879565/Click:5\n",
      "1-takip atılan div no:(17) Takip Et İşlemi / Zaman:2019-05-07 13:38:55.089376/Click:6\n",
      "2-takip atılan div no:(8) Takip Et İşlemi / Zaman:2019-05-07 13:38:56.398174/Click:7\n",
      "2-takip atılan div no:(11) Takip Et İşlemi / Zaman:2019-05-07 13:38:57.608984/Click:8\n",
      "2-takip atılan div no:(15) Takip Et İşlemi / Zaman:2019-05-07 13:38:58.890802/Click:9\n",
      "3-takip atılan div no:(13) Takip Et İşlemi / Zaman:2019-05-07 13:39:00.469867/Click:10\n",
      "3-takip atılan div no:(15) Takip Et İşlemi / Zaman:2019-05-07 13:39:01.648147/Click:11\n",
      "HATA WebDriverException\n",
      "20-takip atılan div no:(17) Takip Et İşlemi / Zaman:2019-05-07 13:41:21.459240/Click:1\n",
      "21-takip atılan div no:(8) Takip Et İşlemi / Zaman:2019-05-07 13:41:23.437932/Click:2\n",
      "21-takip atılan div no:(10) Takip Et İşlemi / Zaman:2019-05-07 13:41:24.729730/Click:3\n",
      "21-takip atılan div no:(14) Takip Et İşlemi / Zaman:2019-05-07 13:41:26.353477/Click:4\n",
      "21-takip atılan div no:(15) Takip Et İşlemi / Zaman:2019-05-07 13:41:27.577287/Click:5\n",
      "21-takip atılan div no:(16) Takip Et İşlemi / Zaman:2019-05-07 13:41:28.805098/Click:6\n",
      "21-takip atılan div no:(17) Takip Et İşlemi / Zaman:2019-05-07 13:41:30.076896/Click:7\n",
      "22-takip atılan div no:(1) Takip Et İşlemi / Zaman:2019-05-07 13:41:31.325704/Click:8\n",
      "22-takip atılan div no:(14) Takip Et İşlemi / Zaman:2019-05-07 13:41:33.730328/Click:9\n",
      "22-takip atılan div no:(16) Takip Et İşlemi / Zaman:2019-05-07 13:41:35.056123/Click:10\n",
      "23-takip atılan div no:(9) Takip Et İşlemi / Zaman:2019-05-07 13:41:37.142799/Click:11\n",
      "23-takip atılan div no:(13) Takip Et İşlemi / Zaman:2019-05-07 13:41:38.643563/Click:12\n",
      "23-takip atılan div no:(14) Takip Et İşlemi / Zaman:2019-05-07 13:41:39.869372/Click:13\n",
      "23-takip atılan div no:(17) Takip Et İşlemi / Zaman:2019-05-07 13:41:41.292153/Click:14\n",
      "24-takip atılan div no:(6) Takip Et İşlemi / Zaman:2019-05-07 13:41:42.990888/Click:15\n",
      "HATA WebDriverException\n",
      "1-takip atılan div no:(3) Takip Et İşlemi / Zaman:2019-05-07 13:41:53.011326/Click:1\n",
      "1-takip atılan div no:(4) Takip Et İşlemi / Zaman:2019-05-07 13:41:54.242135/Click:2\n",
      "1-takip atılan div no:(5) Takip Et İşlemi / Zaman:2019-05-07 13:41:55.452947/Click:3\n",
      "1-takip atılan div no:(11) Takip Et İşlemi / Zaman:2019-05-07 13:41:57.169678/Click:4\n",
      "2-takip atılan div no:(5) Takip Et İşlemi / Zaman:2019-05-07 13:41:59.549308/Click:5\n",
      "19-takip atılan div no:(13) Takip Et İşlemi / Zaman:2019-05-07 13:42:33.314047/Click:6\n",
      "19-takip atılan div no:(16) Takip Et İşlemi / Zaman:2019-05-07 13:42:34.807815/Click:7\n",
      "19-takip atılan div no:(17) Takip Et İşlemi / Zaman:2019-05-07 13:42:36.053621/Click:8\n",
      "20-takip atılan div no:(2) Takip Et İşlemi / Zaman:2019-05-07 13:42:37.504396/Click:9\n",
      "20-takip atılan div no:(8) Takip Et İşlemi / Zaman:2019-05-07 13:42:39.271122/Click:10\n",
      "20-takip atılan div no:(12) Takip Et İşlemi / Zaman:2019-05-07 13:42:40.787883/Click:11\n",
      "20-takip atılan div no:(13) Takip Et İşlemi / Zaman:2019-05-07 13:42:42.002696/Click:12\n",
      "20-takip atılan div no:(14) Takip Et İşlemi / Zaman:2019-05-07 13:42:43.222504/Click:13\n",
      "20-takip atılan div no:(15) Takip Et İşlemi / Zaman:2019-05-07 13:42:44.482310/Click:14\n",
      "21-takip atılan div no:(8) Takip Et İşlemi / Zaman:2019-05-07 13:42:46.585980/Click:15\n",
      "21-takip atılan div no:(13) Takip Et İşlemi / Zaman:2019-05-07 13:42:48.266720/Click:16\n",
      "21-takip atılan div no:(17) Takip Et İşlemi / Zaman:2019-05-07 13:42:49.970454/Click:17\n",
      "22-takip atılan div no:(7) Takip Et İşlemi / Zaman:2019-05-07 13:42:51.946150/Click:18\n",
      "HATA WebDriverException\n",
      "HATA WebDriverException\n",
      "HATA WebDriverException\n"
     ]
    }
   ],
   "source": [
    "tıkladım=False\n",
    "while(tıkladım==False):\n",
    "    # sayfanın sonuna git\n",
    "    try: #scroll işlemi için\n",
    "        jscommand = \"\"\" \n",
    "        followers = document.querySelector('body > div.RnEpo.Yx5HN > div > div.Igw0E.IwRSH.eGOV_.vwCYk.i0EQd > div');\n",
    "        followers.scrollTo(0, followers.scrollHeight);\n",
    "        var lenOfPage=followers.scrollHeight;\n",
    "        return lenOfPage;\n",
    "        \"\"\"\n",
    "        lenOfPage = driver.execute_script(jscommand) #sayfanın sonuna git\n",
    "        match=False\n",
    "        while(match==False): \n",
    "            takipbtn() # her scrollda takip fonksiyonunu çalıştır\n",
    "            lastCount = lenOfPage\n",
    "            time.sleep(1)\n",
    "            lenOfPage = driver.execute_script(jscommand)\n",
    "            if lastCount == lenOfPage:\n",
    "                match=True\n",
    "    except WebDriverException:\n",
    "            print('HATA WebDriverException')\n",
    "            time.sleep(1)   \n",
    "            continue"
   ]
  },
  {
   "cell_type": "code",
   "execution_count": null,
   "metadata": {
    "scrolled": true
   },
   "outputs": [],
   "source": [
    "print('+++-------------------------------------------------+++')\n",
    "#print(str(j) +' toplam adet takip yapıldı.')"
   ]
  },
  {
   "cell_type": "code",
   "execution_count": null,
   "metadata": {},
   "outputs": [],
   "source": [
    "driver.quit()"
   ]
  }
 ],
 "metadata": {
  "kernelspec": {
   "display_name": "Python 3",
   "language": "python",
   "name": "python3"
  },
  "language_info": {
   "codemirror_mode": {
    "name": "ipython",
    "version": 3
   },
   "file_extension": ".py",
   "mimetype": "text/x-python",
   "name": "python",
   "nbconvert_exporter": "python",
   "pygments_lexer": "ipython3",
   "version": "3.7.0"
  }
 },
 "nbformat": 4,
 "nbformat_minor": 2
}
